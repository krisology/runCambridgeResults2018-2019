{
 "cells": [
  {
   "cell_type": "code",
   "execution_count": 13,
   "metadata": {},
   "outputs": [
    {
     "data": {
      "text/plain": [
       "'0.20.3'"
      ]
     },
     "execution_count": 13,
     "metadata": {},
     "output_type": "execute_result"
    }
   ],
   "source": [
    "import warnings\n",
    "warnings.simplefilter('ignore', FutureWarning)\n",
    "\n",
    "from pandas import *\n",
    "# set display.max_rows to show all rows in the output\n",
    "pandas.set_option('display.max_rows', None)\n",
    "\n",
    "pandas.__version__"
   ]
  },
  {
   "cell_type": "markdown",
   "metadata": {},
   "source": [
    "# Analysis of runCambridge 2018-2019 results to find club runner candidates"
   ]
  },
  {
   "cell_type": "markdown",
   "metadata": {},
   "source": [
    "I asked Andy Irvine and he provided a dump of all the results from Oct 2018 - Sept 2019.\n",
    "\n",
    "First load all the results downloaded from runCambridge into the analysis. I haven't done any data cleanup as it all looks pretty good."
   ]
  },
  {
   "cell_type": "code",
   "execution_count": 14,
   "metadata": {},
   "outputs": [
    {
     "data": {
      "text/plain": [
       "Index(['race id', 'race type', 'start date', 'finish date', 'name',\n",
       "       'subevent num', 'subevent name', 'distance', 'distance units',\n",
       "       'accurate', 'venue', 'url', 'runner id', 'runner name', 'gun time',\n",
       "       'position', 'chip time', 'm/f position', 'status', 'pb', 'category',\n",
       "       'category position'],\n",
       "      dtype='object')"
      ]
     },
     "execution_count": 14,
     "metadata": {},
     "output_type": "execute_result"
    }
   ],
   "source": [
    "# Read in the Excel file to a dataframe called allResults\n",
    "allResults = read_excel('runCambridgeResults2018-2019.xlsx')\n",
    "# Show what columns are available in the data set.\n",
    "allResults.columns"
   ]
  },
  {
   "cell_type": "markdown",
   "metadata": {},
   "source": [
    "Show the distinct race names and the number of results per race. Unsurprisingly Cambridge and Wimpole parkruns have the most results."
   ]
  },
  {
   "cell_type": "code",
   "execution_count": 15,
   "metadata": {},
   "outputs": [
    {
     "data": {
      "text/plain": [
       "Cambridge parkrun                              792\n",
       "Coldham's Common parkrun                       541\n",
       "Wimpole Estate parkrun                         489\n",
       "Cambridge Half Marathon                        126\n",
       "Kevin Henry 5k - Race 6 - C&C AC               108\n",
       "Wimpole Belts 10k                               92\n",
       "Huntingdon parkrun                              84\n",
       "Kevin Henry 5k - Race 2 - Ely Runners           70\n",
       "Kevin Henry 5k  - Race 1 - CTC                  68\n",
       "Pocket parkrun                                  68\n",
       "Kevin Henry 5k - Race 3 - Newmarket Joggers     64\n",
       "C&C Boxing Day Race                             62\n",
       "Kevin Henry 5k - Race 5 - Haverhill Runners     51\n",
       "Littleport parkrun                              49\n",
       "Kevin Henry 5k - Race 4 - Saffron Striders      48\n",
       "Cambridge Town and Gown 10k                     44\n",
       "Ely New Years Eve 10k                           44\n",
       "St Neots Half Marathon                          39\n",
       "Round Norfolk Relay                             34\n",
       "Brandon parkrun                                 33\n",
       "Bonfire Burn                                    29\n",
       "Bury St Edmunds parkrun                         27\n",
       "Cambridge parkrun #486                          26\n",
       "Cambridge parkrun #484                          26\n",
       "Virgin Money London Marathon                    25\n",
       "Cambridge parkrun #485                          25\n",
       "Cambridge parkrun #491                          24\n",
       "Cambridge parkrun #482                          24\n",
       "Frostbite League                                24\n",
       "Frostbite League - Hunts AC                     23\n",
       "Frostbite League - March AC                     22\n",
       "Cambridge parkrun #488                          22\n",
       "Cambridge parkrun #480                          22\n",
       "Coldham's Common parkrun #41                    22\n",
       "Cambridge parkrun #490                          21\n",
       "Cambridge parkrun #487                          21\n",
       "Coldham's Common parkrun #42                    21\n",
       "Frostbite League - Riverside                    20\n",
       "Hoohaah Wimpole 10K                             19\n",
       "Frostbite League - Bourne                       19\n",
       "Abington 10K and Fun Run                        19\n",
       "Wimpole Estate parkrun #328                     18\n",
       "Cambridge parkrun #483                          18\n",
       "Cambridge Cambourne 10k                         18\n",
       "Haverhill parkrun                               18\n",
       "Wimpole Estate parkrun #329                     17\n",
       "Wimpole Estate parkrun #330                     16\n",
       "Wimpole Estate parkrun #332                     15\n",
       "Thurlow 5/10                                    15\n",
       "Coldham's Common parkrun #39                    15\n",
       "Hoohaah Childerley Estate 10K                   15\n",
       "Coldham's Common parkrun #49                    15\n",
       "Coldham's Common parkrun #46                    15\n",
       "Perkins Great Eastern Run                       15\n",
       "Cambridge parkrun #481                          15\n",
       "Coldham's Common parkrun #40                    15\n",
       "Wimpole Estate parkrun #331                     14\n",
       "Clare Castle parkrun #96                        14\n",
       "Cambridge Boundary Run                          14\n",
       "Coldham's Common parkrun #44                    13\n",
       "Wimpole Estate parkrun #325                     13\n",
       "Wimpole Half Marathon                           13\n",
       "Coldham's Common parkrun #48                    13\n",
       "Wimpole Estate parkrun #324                     13\n",
       "Coldham's Common parkrun #47                    13\n",
       "Cambridge parkrun #489                          13\n",
       "Coldham's Common parkrun #45                    13\n",
       "Coldham's Common parkrun #43                    12\n",
       "Dovedale Dash                                   12\n",
       "Bushy parkrun                                   12\n",
       "Clare Castle parkrun                            11\n",
       "Run Orwell                                      11\n",
       "Wimpole Estate parkrun #327                     11\n",
       "Hoohaah Thetford Forest 10k                     11\n",
       "ASICS Manchester Marathon                       11\n",
       "Shelford Fun Run                                10\n",
       "Wimpole Estate parkrun #323                     10\n",
       "Barney Memorial 5K                              10\n",
       "Peterborough parkrun                            10\n",
       "Wimpole Estate parkrun #333                      9\n",
       "Folksworth 15                                    9\n",
       "Wimpole Estate parkrun #326                      9\n",
       "St Valentine's 30K                               9\n",
       "Fen Gallop                                       9\n",
       "Newmarket Heath Race                             9\n",
       "Bakewell parkrun                                 8\n",
       "Waterbeach Running Festival                      8\n",
       "Oakley 20                                        8\n",
       "Holkham parkrun                                  8\n",
       "Sutton Beast - Tony Robinson Memorial Run        8\n",
       "Valencia Marathon                                8\n",
       "Peterborough 5k Grand Prix - Thorney             7\n",
       "BMW Berlin Marathon                              7\n",
       "Roman Road Race                                  7\n",
       "Wimpole Estate parkrun #322                      7\n",
       "Keswick parkrun                                  7\n",
       "Buntingford 10                                   7\n",
       "King's Lynn - GEAR 10K                           7\n",
       "Marcus Gynn Newmarket 10k                        7\n",
       "Bedford Twilight 10k                             6\n",
       "Flaming June Half Marathon                       6\n",
       "Bass Belle 10 mile                               6\n",
       "Green Thumb Fen 10                               5\n",
       "Whinlatter Forest parkrun                        5\n",
       "On Snowdonia Trail Marathon                      5\n",
       "Fen Drayton 10K                                  5\n",
       "Littleport parkrun #60                           5\n",
       "Pocket parkrun #65                               5\n",
       "Riverside Runners Anniversary 10k                5\n",
       "Chester Marathon                                 5\n",
       "Brandon parkrun #340                             5\n",
       "Rocks Riverside parkrun                          5\n",
       "Thorney 10K                                      5\n",
       "Ashdon 10K                                       4\n",
       "Great Dunmow parkrun #69                         4\n",
       "Hampstead Heath parkrun #432                     4\n",
       "Brandon Country Park parkrun                     4\n",
       "Peterborough 5K Grand Prix - Eye                 4\n",
       "Peterborough 5K Grand Prix - NVH                 4\n",
       "Heritage Coast Run                               4\n",
       "Boston parkrun                                   4\n",
       "Huntingdon parkrun #330                          4\n",
       "Maidenhead Half Marathon                         4\n",
       "Dorking 10                                       4\n",
       "Mole Valley parkrun                              4\n",
       "Bedford parkrun                                  4\n",
       "Great Notley parkrun #279                        4\n",
       "Bury St Edmunds parkrun #314                     3\n",
       "Littleport parkrun #64                           3\n",
       "March parkrun #182                               3\n",
       "Littleport parkrun #66                           3\n",
       "Pocket parkrun #60                               3\n",
       "Oxford Half Marathon                             3\n",
       "Pocket parkrun #64                               3\n",
       "Great Denham parkrun #81                         3\n",
       "Thetford parkrun #344                            3\n",
       "Holt 10k                                         3\n",
       "Huntingdon parkrun #325                          3\n",
       "Westminster Mile                                 3\n",
       "Great Denham parkrun #75                         3\n",
       "Huntingdon parkrun #329                          3\n",
       "Boston Marathon                                  3\n",
       "Victoria Dock parkrun #69                        3\n",
       "Wibbly Wobbly Log Jog                            3\n",
       "Littleport parkrun #57                           3\n",
       "Hatfield Broad Oak 10K                           3\n",
       "Ryston Runners Cross-Country Grand Prix          3\n",
       "Huntingdon parkrun #328                          3\n",
       "Cheltenham parkrun #341                          3\n",
       "Holkham parkrun #167                             3\n",
       "Zillmere parkrun                                 3\n",
       "Thorney 5 mile                                   2\n",
       "Whissendine 6ix Road Race                        2\n",
       "Lingwood parkrun                                 2\n",
       "Letchworth parkrun #81                           2\n",
       "Crissy Field parkrun #240                        2\n",
       "Huntingdon parkrun #322                          2\n",
       "Southwark parkrun                                2\n",
       "Dunstable Downs parkrun                          2\n",
       "Hackney Marshes parkrun #478                     2\n",
       "Porthcawl parkrun #328                           2\n",
       "Long Eaton parkrun                               2\n",
       "Gainsborough parkrun                             2\n",
       "Penrith parkrun #279                             2\n",
       "Alvaston parkrun #8                              2\n",
       "Osterley parkrun #306                            2\n",
       "Wicklow Hospice one day festival of running      2\n",
       "Dishley parkrun, Loughborough                    2\n",
       "Market Harborough parkrun #230                   2\n",
       "Harrow Lodge parkrun #335                        2\n",
       "Coventry parkrun #480                            2\n",
       "Markeaton parkrun                                2\n",
       "White Rock parkrun                               2\n",
       "Littleport parkrun #58                           2\n",
       "Brierley Forest parkrun                          2\n",
       "Basingstoke parkrun                              2\n",
       "Pocket parkrun #59                               2\n",
       "Manor Field parkrun #49                          2\n",
       "Bunyaville parkrun                               2\n",
       "Pymmes parkrun                                   2\n",
       "Regents Park 10K Royal Parks Summer Series       2\n",
       "Bestwood Village parkrun                         2\n",
       "Lincoln parkrun                                  2\n",
       "St Lucia parkrun                                 2\n",
       "Peterborough 5K Grand Prix - Werrington          2\n",
       "Loch Neaton parkrun                              2\n",
       "Avondale parkrun                                 2\n",
       "Shipley Country parkrun                          2\n",
       "Stour Valley Path 100K                           2\n",
       "Thurrock parkrun                                 2\n",
       "Marple parkrun #382                              2\n",
       "Haverhill parkrun #76                            2\n",
       "Braunstone parkrun                               2\n",
       "Sherwood Pines parkrun                           2\n",
       "Pocket parkrun #63                               2\n",
       "Leicester Victoria parkrun #191                  2\n",
       "Gedling parkrun                                  2\n",
       "Fell Foot parkrun #236                           2\n",
       "Bakewell parkrun #82                             2\n",
       "Fountains Abbey parkrun                          2\n",
       "East Grinstead parkrun                           2\n",
       "Watermeadows parkrun                             2\n",
       "Beeston parkrun                                  2\n",
       "Huntingdon parkrun #327                          2\n",
       "Clare Castle parkrun #90                         2\n",
       "Sloughbottom parkrun #10                         2\n",
       "Brandon parkrun #335                             2\n",
       "Rosliston parkrun                                2\n",
       "Poolsbrook parkrun                               2\n",
       "California Country parkrun #24                   2\n",
       "Bakewell parkrun #87                             2\n",
       "Forest Rec parkrun                               2\n",
       "March parkrun                                    2\n",
       "Great Dunmow parkrun                             2\n",
       "Medina I.O.W. parkrun #417                       2\n",
       "Loch Neaton parkrun #19                          2\n",
       "Beachy Head Marathon                             2\n",
       "Marple parkrun #388                              2\n",
       "Lanhydrock parkrun                               2\n",
       "Yeovil Montacute parkrun #274                    2\n",
       "Jamaica Pond parkrun                             2\n",
       "Highwoods parkrun                                2\n",
       "Medina I.O.W. parkrun #422                       2\n",
       "Millennium Country parkrun                       2\n",
       "Thetford parkrun #348                            2\n",
       "Jersey Farm parkrun #43                          2\n",
       "Mansfield parkrun                                2\n",
       "Weymouth parkrun #306                            2\n",
       "Poole Runners Summer Series race 4               2\n",
       "Clumber Park parkrun                             2\n",
       "Great Denham parkrun #73                         2\n",
       "Huntingdon parkrun #323                          2\n",
       "Snowden Field parkrun #12                        2\n",
       "Thomas Mills parkrun #5                          2\n",
       "Glossop parkrun                                  2\n",
       "Cormorant Bay parkrun                            2\n",
       "Clifton parkrun                                  2\n",
       "Bethlehem Royal Hospital parkrun #9              2\n",
       "Woburn Abbey 10k                                 2\n",
       "Hoblingwell parkrun #117                         2\n",
       "Belton House parkrun                             2\n",
       "Queen Elizabeth parkrun #329                     2\n",
       "Lincoln parkrun #283                             2\n",
       "Newark parkrun                                   2\n",
       "Daventry parkrun                                 2\n",
       "Jersey Farm parkrun                              2\n",
       "Raphael parkrun #224                             2\n",
       "Abingdon Marathon                                2\n",
       "Marple parkrun #385                              2\n",
       "Market Rasen Racecourse parkrun                  2\n",
       "Great South Run                                  2\n",
       "Corby parkrun                                    2\n",
       "Rushcliffe parkrun                               2\n",
       "Lanhydrock parkrun #288                          2\n",
       "Finsbury parkrun #477                            2\n",
       "Cambourne 5k                                     2\n",
       "Colwick parkrun                                  2\n",
       "Holkham parkrun #169                             2\n",
       "Milford Waterfront parkrun #2                    2\n",
       "Melton Mowbray parkrun                           2\n",
       "Conkers parkrun                                  2\n",
       "Crosby parkrun #192                              1\n",
       "Unisee parkrun #5                                1\n",
       "Letchworth parkrun                               1\n",
       "Hazelwood parkrun                                1\n",
       "Brass Monkey Half Marathon                       1\n",
       "Erddig parkrun #147                              1\n",
       "Weymouth parkrun #315                            1\n",
       "Tetbury Goods Shed parkrun #13                   1\n",
       "Crosby parkrun #187                              1\n",
       "Wˆhrder See parkrun #76                          1\n",
       "Hastings parkrun #228                            1\n",
       "Haverhill parkrun #75                            1\n",
       "Cuerden Valley parkrun #304                      1\n",
       "Sizewell parkrun #49                             1\n",
       "Mount Ainslie parkrun #73                        1\n",
       "Hampstead Heath parkrun #426                     1\n",
       "Worthing parkrun #159                            1\n",
       "Manor Field parkrun #54                          1\n",
       "Gadebridge parkrun #223                          1\n",
       "Brandon parkrun #334                             1\n",
       "Cheltenham parkrun #334                          1\n",
       "Stratford-upon-Avon parkrun #179                 1\n",
       "Mile End parkrun #396                            1\n",
       "Thetford parkrun #345                            1\n",
       "Delamere parkrun #322                            1\n",
       "Huntingdon parkrun #324                          1\n",
       "Futako Kamagawa parkrun #21                      1\n",
       "Burley Griffin parkrun #172                      1\n",
       "Felixstowe parkrun #68                           1\n",
       "Littleport parkrun #62                           1\n",
       "Rising Sun parkrun #163                          1\n",
       "Western Springs parkrun #196                     1\n",
       "Newcastle parkrun #471                           1\n",
       "Swaffham parkrun #63                             1\n",
       "GreenWay parkrun #86                             1\n",
       "Sizewell parkrun #52                             1\n",
       "King's Lynn parkrun #422                         1\n",
       "Market Rasen Racecourse parkrun #41              1\n",
       "Barnstaple parkrun #341                          1\n",
       "Westmill parkrun #108                            1\n",
       "Burley Griffin parkrun #173                      1\n",
       "Raphael parkrun #215                             1\n",
       "Haigh Woodland parkrun #189                      1\n",
       "Thetford parkrun #347                            1\n",
       "Bressay parkrun #75                              1\n",
       "Manor Field parkrun #51                          1\n",
       "Fell Foot parkrun #240                           1\n",
       "Pollok parkrun #552                              1\n",
       "Corby parkrun #307                               1\n",
       "Cheltenham parkrun #337                          1\n",
       "Bury St Edmunds parkrun #313                     1\n",
       "Lee Valley Velopark 10 miles                     1\n",
       "Letchworth parkrun #87                           1\n",
       "Severn Bridge parkrun #47                        1\n",
       "Holkham parkrun #171                             1\n",
       "South Bank parkrun                               1\n",
       "Castle Park parkrun                              1\n",
       "Huntingdon parkrun #320                          1\n",
       "Dolgellau parkrun #186                           1\n",
       "Fell Foot parkrun #238                           1\n",
       "Cheltenham parkrun #339                          1\n",
       "Finsbury Park parkrun                            1\n",
       "Brandon parkrun #333                             1\n",
       "Dinton Pastures parkrun #64                      1\n",
       "Harrogate parkrun #403                           1\n",
       "Felixstowe parkrun #70                           1\n",
       "RunThrough Victoria Park 10k                     1\n",
       "River Valley parkrun #161                        1\n",
       "Newbiggin-by-the-Sea parkrun #103                1\n",
       "Sheffield Hallam parkrun #449                    1\n",
       "Roundhay parkrun #431                            1\n",
       "Schneider Electric Marathon de Paris             1\n",
       "Baldock Beast Half Marathon                      1\n",
       "Southsea parkrun #310                            1\n",
       "Thetford parkrun #350                            1\n",
       "Sizewell parkrun #50                             1\n",
       "Woolacombe Dunes parkrun #36                     1\n",
       "Woodhouse Moor parkrun #625                      1\n",
       "Glen River parkrun #34                           1\n",
       "Potternewton parkrun #42                         1\n",
       "Haverhill parkrun #82                            1\n",
       "Sheringham parkrun #347                          1\n",
       "New Farm parkrun #403                            1\n",
       "Newport Lakes parkrun #107                       1\n",
       "Abbey 10K                                        1\n",
       "Burgess parkrun #351                             1\n",
       "Sixfields Upton parkrun #77                      1\n",
       "Hasenheide parkrun #84                           1\n",
       "Maidenhead Easter 10                             1\n",
       "Cheltenham parkrun #340                          1\n",
       "Lode Half Marathon and Fun Run                   1\n",
       "Norwich parkrun #478                             1\n",
       "Gladstone parkrun #378                           1\n",
       "Ally Pally parkrun #383                          1\n",
       "Potternewton parkrun #38                         1\n",
       "Market Harborough parkrun #228                   1\n",
       "Holkham parkrun #168                             1\n",
       "Malmˆ Ribersborg parkrun #67                     1\n",
       "Ouse Valley Way Marathon                         1\n",
       "Glossop parkrun #183                             1\n",
       "Great Denham parkrun                             1\n",
       "Haverhill parkrun #78                            1\n",
       "Manor Field parkrun #45                          1\n",
       "Dulwich parkrun #392                             1\n",
       "Burley Griffin parkrun #171                      1\n",
       "Ballincollig parkrun #171                        1\n",
       "Roma Pineto parkrun #79                          1\n",
       "Maesteg parkrun #104                             1\n",
       "Sheringham parkrun #354                          1\n",
       "Kingsbury Water parkrun #306                     1\n",
       "Eden Project parkrun #89                         1\n",
       "Bury St Edmunds parkrun #317                     1\n",
       "Wolverhampton parkrun #332                       1\n",
       "Crathes Castle parkrun #27                       1\n",
       "Erddig parkrun #150                              1\n",
       "St Anne's parkrun #295                           1\n",
       "St Annes parkrun #294                            1\n",
       "Tarpley 10/20                                    1\n",
       "Haverhill parkrun #72                            1\n",
       "Sheffield Hallam parkrun #453                    1\n",
       "Lydney parkrun #190                              1\n",
       "Northampton parkrun #380                         1\n",
       "Bakewell parkrun #86                             1\n",
       "Poolbeg parkrun #101                             1\n",
       "Littleport parkrun #56                           1\n",
       "Great Cornard parkrun #296                       1\n",
       "Sheringham parkrun                               1\n",
       "Whinlatter Forest parkrun #84                    1\n",
       "Kingsbury Water parkrun #312                     1\n",
       "TSC New York Marathon                            1\n",
       "Brundall parkrun #205                            1\n",
       "Whitstable parkrun #469                          1\n",
       "Thetford parkrun #352                            1\n",
       "Peterborough 5K Grand Prix - Stamford            1\n",
       "Brandon parkrun #339                             1\n",
       "MK Autumn Run                                    1\n",
       "Sizewell parkrun #53                             1\n",
       "Haverhill parkrun #71                            1\n",
       "Edinburgh parkrun #507                           1\n",
       "Hazelwood parkrun                                1\n",
       "Ross-on-Wye parkrun #6                           1\n",
       "Loch Neaton parkrun, Watton #25                  1\n",
       "Ballincollig parkrun #170                        1\n",
       "Burgess parkrun #356                             1\n",
       "Brueton parkrun #469                             1\n",
       "Swaffham parkrun #64                             1\n",
       "Congleton parkrun #358                           1\n",
       "Catton parkrun #307                              1\n",
       "Mulbarton parkrun #317                           1\n",
       "Sheringham parkrun #351                          1\n",
       "Bedford parkrun #423                             1\n",
       "Glossop parkrun #192                             1\n",
       "Haverhill parkrun #70                            1\n",
       "Huntingdon parkrun #326                          1\n",
       "Chester parkrun #163                             1\n",
       "Penrose parkrun #231                             1\n",
       "Brighouse parkrun #138                           1\n",
       "Catterick parkrun #108                           1\n",
       "Longrun Meadow parkrun #305                      1\n",
       "Sixfields Upton parkrun #75                      1\n",
       "Clare Castle parkrun #92                         1\n",
       "Portobello parkrun, Edinburgh #220               1\n",
       "Dursley Dozen                                    1\n",
       "Stratford-upon-Avon parkrun #181                 1\n",
       "Brandon parkrun #338                             1\n",
       "Delamere parkrun                                 1\n",
       "Mile End parkrun #393                            1\n",
       "Castle Park parkrun #104                         1\n",
       "Incheon Songdo Half Marathon                     1\n",
       "Haverhill parkrun #77                            1\n",
       "North Downs Run                                  1\n",
       "York parkrun #349                                1\n",
       "Bromley parkrun #499                             1\n",
       "Parke parkrun #272                               1\n",
       "Name: name, dtype: int64"
      ]
     },
     "execution_count": 15,
     "metadata": {},
     "output_type": "execute_result"
    }
   ],
   "source": [
    "allResults['name'].value_counts()"
   ]
  },
  {
   "cell_type": "markdown",
   "metadata": {},
   "source": [
    "Show the total number of results in the data set."
   ]
  },
  {
   "cell_type": "code",
   "execution_count": 16,
   "metadata": {},
   "outputs": [
    {
     "data": {
      "text/plain": [
       "4657"
      ]
     },
     "execution_count": 16,
     "metadata": {},
     "output_type": "execute_result"
    }
   ],
   "source": [
    "totalNumResults = len(allResults)\n",
    "totalNumResults"
   ]
  },
  {
   "cell_type": "markdown",
   "metadata": {},
   "source": [
    "To be considered for a club runner award a runner will have run in what we might consider \"club races\". These \"club races\" only include races with the following text in the race names:\n",
    "- C&C\n",
    "- League\n",
    "- Championships\n",
    "- Cambourne\n",
    "- Relay\n",
    "\n",
    "I've created a new dataframe here called justCCraces that includes only these race results. "
   ]
  },
  {
   "cell_type": "code",
   "execution_count": 17,
   "metadata": {
    "collapsed": true
   },
   "outputs": [],
   "source": [
    "justCCraces = allResults[allResults['name'].str.contains('C&C|Frostbite|Kevin Henry|Championships|Cambridge Cambourne|Relay')]"
   ]
  },
  {
   "cell_type": "markdown",
   "metadata": {},
   "source": [
    "Show the total number of results in the new justCCraces dataframe."
   ]
  },
  {
   "cell_type": "code",
   "execution_count": 18,
   "metadata": {},
   "outputs": [
    {
     "data": {
      "text/plain": [
       "631"
      ]
     },
     "execution_count": 18,
     "metadata": {},
     "output_type": "execute_result"
    }
   ],
   "source": [
    "len(justCCraces)"
   ]
  },
  {
   "cell_type": "markdown",
   "metadata": {},
   "source": [
    "\n",
    "Tthese are all the races in my new result set."
   ]
  },
  {
   "cell_type": "code",
   "execution_count": 19,
   "metadata": {},
   "outputs": [
    {
     "data": {
      "text/plain": [
       "Kevin Henry 5k - Race 6 - C&C AC               108\n",
       "Kevin Henry 5k - Race 2 - Ely Runners           70\n",
       "Kevin Henry 5k  - Race 1 - CTC                  68\n",
       "Kevin Henry 5k - Race 3 - Newmarket Joggers     64\n",
       "C&C Boxing Day Race                             62\n",
       "Kevin Henry 5k - Race 5 - Haverhill Runners     51\n",
       "Kevin Henry 5k - Race 4 - Saffron Striders      48\n",
       "Round Norfolk Relay                             34\n",
       "Frostbite League                                24\n",
       "Frostbite League - Hunts AC                     23\n",
       "Frostbite League - March AC                     22\n",
       "Frostbite League - Riverside                    20\n",
       "Frostbite League - Bourne                       19\n",
       "Cambridge Cambourne 10k                         18\n",
       "Name: name, dtype: int64"
      ]
     },
     "execution_count": 19,
     "metadata": {},
     "output_type": "execute_result"
    }
   ],
   "source": [
    "justCCraces['name'].value_counts()"
   ]
  },
  {
   "cell_type": "markdown",
   "metadata": {},
   "source": [
    "### Top 40 club runners\n",
    "Here are the top 40 runners with the most occurrences for club races. There is no sex column in the data so it's male and female combined."
   ]
  },
  {
   "cell_type": "code",
   "execution_count": 20,
   "metadata": {},
   "outputs": [
    {
     "data": {
      "text/plain": [
       "Glyn Smith             9\n",
       "Gerald Meah            9\n",
       "Natalija Stepurko      9\n",
       "Ben Chamberlain        9\n",
       "Ian Richardson         8\n",
       "Mike Brentnall         8\n",
       "Alex Downie            8\n",
       "James Rutland          8\n",
       "Rachael Leah           8\n",
       "Clare Bacchus          8\n",
       "Charlie Ritchie        8\n",
       "Rachel Porter          8\n",
       "John Baslington        8\n",
       "Duncan Forsyth         8\n",
       "David Ousby            7\n",
       "Tim Long               7\n",
       "Al Pritchard           7\n",
       "Tom Gibson             7\n",
       "Rob Mahen              7\n",
       "Dave Mail              6\n",
       "Rob Moir               6\n",
       "Daniel Aguilar-Agon    6\n",
       "Karen Cameron          6\n",
       "Rebecca Sharpe         6\n",
       "Bethan Morgan          6\n",
       "Kieran Brady           6\n",
       "Richard Lyle           6\n",
       "Jonathan Griffiths     6\n",
       "Tom Middleton          5\n",
       "Roberta Lanaro         5\n",
       "Joshua Vail            5\n",
       "Daniel Zailer          5\n",
       "Duncan Coombs          5\n",
       "John Ferguson          5\n",
       "Neville Doe            5\n",
       "Patrick O'Hare         5\n",
       "Chris Poole            5\n",
       "Pauline Blake          5\n",
       "Jane Mansley           5\n",
       "Carmel McEniery        5\n",
       "Name: runner name, dtype: int64"
      ]
     },
     "execution_count": 20,
     "metadata": {},
     "output_type": "execute_result"
    }
   ],
   "source": [
    "justCCraces['runner name'].value_counts().head(40)"
   ]
  },
  {
   "cell_type": "markdown",
   "metadata": {
    "collapsed": true
   },
   "source": [
    "### Comparison with the full data set\n",
    "Let's look at the top 40 in the full data set using the original dataframe."
   ]
  },
  {
   "cell_type": "code",
   "execution_count": 21,
   "metadata": {},
   "outputs": [
    {
     "data": {
      "text/plain": [
       "Ian Richardson      76\n",
       "Pauline Blake       63\n",
       "Karen Richardson    58\n",
       "Alex Downie         57\n",
       "Carmel McEniery     57\n",
       "Clare Bacchus       56\n",
       "Andy Irvine         56\n",
       "Mike Brentnall      55\n",
       "Ben Chamberlain     52\n",
       "Paul Jones          51\n",
       "Andrew Taylor       49\n",
       "Fiona Downie        47\n",
       "James Rutland       44\n",
       "Bethan Morgan       43\n",
       "Karl Jones          41\n",
       "Rob Mahen           39\n",
       "Neville Doe         39\n",
       "Cameron Dunsmore    39\n",
       "Joseph Philip       38\n",
       "Jenny Walsh         37\n",
       "Tim Long            37\n",
       "Ross Dunsmore       37\n",
       "Tim Phipps          37\n",
       "Jennie Peacock      36\n",
       "Peter Bennet        36\n",
       "Tom Lindfield       35\n",
       "Paul Beastall       35\n",
       "Neil Costello       34\n",
       "Gill Owen           34\n",
       "Diana Braverman     34\n",
       "Stuart Clarke       33\n",
       "Ellie Loosley       33\n",
       "Kerion Hunt         33\n",
       "Sue Brentnall       33\n",
       "Gerald Meah         33\n",
       "Avril Monmont       32\n",
       "Andrew Parsons      32\n",
       "Jools Hudson        32\n",
       "Callum Dunsmore     32\n",
       "Amanda Lasseter     31\n",
       "Name: runner name, dtype: int64"
      ]
     },
     "execution_count": 21,
     "metadata": {},
     "output_type": "execute_result"
    }
   ],
   "source": [
    "allResults['runner name'].value_counts().head(40)"
   ]
  },
  {
   "cell_type": "markdown",
   "metadata": {},
   "source": [
    "### Excluding Parkrun\n",
    "Out of curiosity, I'm going to exclude Parkrun. I'm searching for 'arkrun' because it's case sensitive, then negating it with the '~' operator. I've created another new dataframe here called allResultsButNotParkrun."
   ]
  },
  {
   "cell_type": "code",
   "execution_count": 22,
   "metadata": {
    "collapsed": true
   },
   "outputs": [],
   "source": [
    "allResultsButNotParkrun = allResults[~allResults['name'].str.contains('arkrun')]"
   ]
  },
  {
   "cell_type": "markdown",
   "metadata": {},
   "source": [
    "Show the total number of results in the new allResultsButNotParkrun dataframe."
   ]
  },
  {
   "cell_type": "code",
   "execution_count": 23,
   "metadata": {},
   "outputs": [
    {
     "data": {
      "text/plain": [
       "1448"
      ]
     },
     "execution_count": 23,
     "metadata": {},
     "output_type": "execute_result"
    }
   ],
   "source": [
    "len(allResultsButNotParkrun)"
   ]
  },
  {
   "cell_type": "markdown",
   "metadata": {},
   "source": [
    "The top 40 in the allResultsButNotParkrun data set."
   ]
  },
  {
   "cell_type": "code",
   "execution_count": 24,
   "metadata": {},
   "outputs": [
    {
     "data": {
      "text/plain": [
       "Jon Anderson           24\n",
       "Gerald Meah            23\n",
       "Mike Brentnall         22\n",
       "Ian Richardson         21\n",
       "Pauline Blake          20\n",
       "Carmel McEniery        20\n",
       "Glyn Smith             19\n",
       "Richard Lyle           18\n",
       "Clare Bacchus          18\n",
       "Ben Chamberlain        18\n",
       "Alex Downie            16\n",
       "Bethan Morgan          15\n",
       "James Rutland          15\n",
       "John Ferguson          15\n",
       "Rachael Leah           15\n",
       "Tim Long               14\n",
       "Andy Irvine            14\n",
       "Sue Brentnall          14\n",
       "Charlie Ritchie        13\n",
       "Paul Jones             13\n",
       "Charlie Wartnaby       12\n",
       "Daniel Aguilar-Agon    12\n",
       "David Ousby            11\n",
       "Rob Mahen              11\n",
       "Lynn Roberts           11\n",
       "Peter Bennet           10\n",
       "Duncan Forsyth         10\n",
       "Sarah Williams         10\n",
       "Jonathan Griffiths     10\n",
       "John Baslington        10\n",
       "Fiona Downie           10\n",
       "Duncan Coombs          10\n",
       "Rachel Porter          10\n",
       "Tom Gibson             10\n",
       "Anne Schumann          10\n",
       "Kieran Brady            9\n",
       "Natalija Stepurko       9\n",
       "Chris Pell              9\n",
       "Chloe Haines            9\n",
       "Matt Slater             9\n",
       "Name: runner name, dtype: int64"
      ]
     },
     "execution_count": 24,
     "metadata": {},
     "output_type": "execute_result"
    }
   ],
   "source": [
    "allResultsButNotParkrun['runner name'].value_counts().head(40)"
   ]
  }
 ],
 "metadata": {
  "kernelspec": {
   "display_name": "Python 3",
   "language": "python",
   "name": "python3"
  },
  "language_info": {
   "codemirror_mode": {
    "name": "ipython",
    "version": 3
   },
   "file_extension": ".py",
   "mimetype": "text/x-python",
   "name": "python",
   "nbconvert_exporter": "python",
   "pygments_lexer": "ipython3",
   "version": "3.6.3"
  }
 },
 "nbformat": 4,
 "nbformat_minor": 1
}
